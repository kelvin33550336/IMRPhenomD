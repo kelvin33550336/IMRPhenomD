{
 "cells": [
  {
   "cell_type": "code",
   "execution_count": 1,
   "metadata": {},
   "outputs": [],
   "source": [
    "import numpy as np\n",
    "import matplotlib.pyplot as plt\n",
    "import pandas as pd"
   ]
  },
  {
   "cell_type": "code",
   "execution_count": 7,
   "metadata": {},
   "outputs": [
    {
     "data": {
      "text/plain": [
       "array([[2.26000000e+02, 2.14126459e-04, 5.58579946e-04],\n",
       "       [2.19000000e+02, 1.46123161e-04, 1.26467794e-03],\n",
       "       [2.10000000e+03, 4.69315457e-04, 3.05477075e-04],\n",
       "       ...,\n",
       "       [1.85000000e+02, 4.07014447e-03, 2.65327215e-03],\n",
       "       [1.10700000e+03, 4.93441369e-03, 3.18618398e-03],\n",
       "       [3.03000000e+02, 2.78330700e-01, 2.89928863e-01]])"
      ]
     },
     "execution_count": 7,
     "metadata": {},
     "output_type": "execute_result"
    }
   ],
   "source": [
    "data = np.loadtxt('./plotting_data/q148_testing.dat', delimiter=' ')\n",
    "data"
   ]
  },
  {
   "cell_type": "code",
   "execution_count": 6,
   "metadata": {},
   "outputs": [
    {
     "ename": "IndexError",
     "evalue": "index 5 is out of bounds for axis 1 with size 3",
     "output_type": "error",
     "traceback": [
      "\u001b[1;31m---------------------------------------------------------------------------\u001b[0m",
      "\u001b[1;31mIndexError\u001b[0m                                Traceback (most recent call last)",
      "\u001b[1;32mc:\\CUHK\\Additional Information\\SURE Flatiron Research\\IMRPhenomD\\showyourwork_scripts.ipynb Cell 3\u001b[0m in \u001b[0;36m<cell line: 1>\u001b[1;34m()\u001b[0m\n\u001b[1;32m----> <a href='vscode-notebook-cell:/c%3A/CUHK/Additional%20Information/SURE%20Flatiron%20Research/IMRPhenomD/showyourwork_scripts.ipynb#W2sZmlsZQ%3D%3D?line=0'>1</a>\u001b[0m logdiff \u001b[39m=\u001b[39m data[:,\u001b[39m5\u001b[39;49m] \u001b[39m/\u001b[39m data[:,\u001b[39m4\u001b[39m]\n\u001b[0;32m      <a href='vscode-notebook-cell:/c%3A/CUHK/Additional%20Information/SURE%20Flatiron%20Research/IMRPhenomD/showyourwork_scripts.ipynb#W2sZmlsZQ%3D%3D?line=1'>2</a>\u001b[0m \u001b[39mprint\u001b[39m(logdiff)\n",
      "\u001b[1;31mIndexError\u001b[0m: index 5 is out of bounds for axis 1 with size 3"
     ]
    }
   ],
   "source": [
    "logdiff = data[:,5] / data[:,4]\n",
    "print(logdiff)"
   ]
  },
  {
   "cell_type": "code",
   "execution_count": null,
   "metadata": {},
   "outputs": [],
   "source": []
  },
  {
   "cell_type": "code",
   "execution_count": null,
   "metadata": {},
   "outputs": [],
   "source": []
  }
 ],
 "metadata": {
  "kernelspec": {
   "display_name": "Python 3",
   "language": "python",
   "name": "python3"
  },
  "language_info": {
   "codemirror_mode": {
    "name": "ipython",
    "version": 3
   },
   "file_extension": ".py",
   "mimetype": "text/x-python",
   "name": "python",
   "nbconvert_exporter": "python",
   "pygments_lexer": "ipython3",
   "version": "3.9.1"
  },
  "orig_nbformat": 4,
  "vscode": {
   "interpreter": {
    "hash": "43ac2302dbdc091d64cae5c37f2bd3650672b0961ebe5b52ceebd004e80dd3a8"
   }
  }
 },
 "nbformat": 4,
 "nbformat_minor": 2
}
